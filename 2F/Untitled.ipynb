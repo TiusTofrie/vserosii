{
 "cells": [
  {
   "cell_type": "code",
   "execution_count": 4,
   "id": "1e935733-6644-426d-bcad-f2cf05a9dfa2",
   "metadata": {},
   "outputs": [],
   "source": [
    "from tensorflow.keras.models import Sequential\n",
    "from tensorflow.keras.layers import Dense, Embedding, Dropout, GRU, LSTM, SpatialDropout1D, Dropout\n",
    "from tensorflow.keras.preprocessing.sequence import pad_sequences\n",
    "from tensorflow.keras.preprocessing.text import Tokenizer\n",
    "from tensorflow.keras.callbacks import ModelCheckpoint\n",
    "from tensorflow.keras import utils\n",
    "from tensorflow import config as tfconfig\n",
    "import pandas as pd\n",
    "import numpy as np\n",
    "gpus = tfconfig.list_physical_devices('GPU')\n",
    "\n",
    "if gpus:\n",
    "    try:\n",
    "        for gpu in gpus:\n",
    "            tfconfig.set_logical_device_configuration(gpu, [tfconfig.LogicalDeviceConfiguration(memory_limit=4096)])\n",
    "    except RuntimeError as e:\n",
    "        \n",
    "        print(e)"
   ]
  },
  {
   "cell_type": "code",
   "execution_count": 5,
   "id": "d2a60235-bf61-496e-9984-5176e27fd995",
   "metadata": {},
   "outputs": [],
   "source": [
    "num_words = 10000\n",
    "max_text_len = 300"
   ]
  },
  {
   "cell_type": "code",
   "execution_count": 6,
   "id": "172ee4fa-99ba-46ec-ab53-0ea54cf63b73",
   "metadata": {},
   "outputs": [],
   "source": [
    "train = pd.read_csv('train.csv', sep='\\t')\n",
    "test = pd.read_csv('test.csv', sep='\\t')"
   ]
  },
  {
   "cell_type": "code",
   "execution_count": 7,
   "id": "110f33f4-875a-4fac-877e-7bb04ab72318",
   "metadata": {},
   "outputs": [],
   "source": [
    "texts = train['Text']\n",
    "y_train = (train['Score'].astype('category')).cat.codes"
   ]
  },
  {
   "cell_type": "code",
   "execution_count": 8,
   "id": "ceffcc17-3981-4a59-9c48-13217ad7ae3f",
   "metadata": {},
   "outputs": [],
   "source": [
    "tokenizer = Tokenizer(num_words=num_words)\n",
    "tokenizer.fit_on_texts(texts)"
   ]
  },
  {
   "cell_type": "code",
   "execution_count": 9,
   "id": "20ff1981-35ce-4831-8128-a4a04131fda7",
   "metadata": {},
   "outputs": [],
   "source": [
    "x_train = tokenizer.texts_to_sequences(texts)\n",
    "x_train = pad_sequences(x_train, maxlen=max_text_len)"
   ]
  },
  {
   "cell_type": "code",
   "execution_count": 13,
   "id": "9c58999a-0ea9-47ee-bc1f-b8f503a0b1e7",
   "metadata": {},
   "outputs": [],
   "source": [
    "model = Sequential()\n",
    "model.add(Embedding(num_words, 256, input_length=max_text_len))\n",
    "model.add(LSTM(64, return_))\n",
    "model.add(Dense(1, activation='sigmoid'))"
   ]
  },
  {
   "cell_type": "code",
   "execution_count": 14,
   "id": "93516793-718f-4e84-868e-a36045174229",
   "metadata": {},
   "outputs": [],
   "source": [
    "model.compile(optimizer='adam', \n",
    "              loss='binary_crossentropy', \n",
    "              metrics=['accuracy'])"
   ]
  },
  {
   "cell_type": "code",
   "execution_count": 15,
   "id": "13e96ec4-fc30-438d-a3e6-d66cf9545b7a",
   "metadata": {},
   "outputs": [
    {
     "name": "stdout",
     "output_type": "stream",
     "text": [
      "Epoch 1/15\n",
      "21/22 [===========================>..] - ETA: 0s - loss: 0.6863 - accuracy: 0.5669\n",
      "Epoch 1: val_accuracy improved from -inf to 0.58364, saving model to best_model.h5\n",
      "22/22 [==============================] - 2s 48ms/step - loss: 0.6862 - accuracy: 0.5668 - val_loss: 0.6787 - val_accuracy: 0.5836\n",
      "Epoch 2/15\n",
      "21/22 [===========================>..] - ETA: 0s - loss: 0.6730 - accuracy: 0.5903\n",
      "Epoch 2: val_accuracy improved from 0.58364 to 0.59322, saving model to best_model.h5\n",
      "22/22 [==============================] - 1s 36ms/step - loss: 0.6728 - accuracy: 0.5905 - val_loss: 0.6666 - val_accuracy: 0.5932\n",
      "Epoch 3/15\n",
      "21/22 [===========================>..] - ETA: 0s - loss: 0.6646 - accuracy: 0.5935\n",
      "Epoch 3: val_accuracy improved from 0.59322 to 0.59373, saving model to best_model.h5\n",
      "22/22 [==============================] - 1s 36ms/step - loss: 0.6644 - accuracy: 0.5936 - val_loss: 0.6630 - val_accuracy: 0.5937\n",
      "Epoch 4/15\n",
      "21/22 [===========================>..] - ETA: 0s - loss: 0.6612 - accuracy: 0.5954\n",
      "Epoch 4: val_accuracy improved from 0.59373 to 0.59392, saving model to best_model.h5\n",
      "22/22 [==============================] - 1s 37ms/step - loss: 0.6613 - accuracy: 0.5950 - val_loss: 0.6626 - val_accuracy: 0.5939\n",
      "Epoch 5/15\n",
      "21/22 [===========================>..] - ETA: 0s - loss: 0.6607 - accuracy: 0.5946\n",
      "Epoch 5: val_accuracy improved from 0.59392 to 0.59396, saving model to best_model.h5\n",
      "22/22 [==============================] - 1s 35ms/step - loss: 0.6605 - accuracy: 0.5952 - val_loss: 0.6622 - val_accuracy: 0.5940\n",
      "Epoch 6/15\n",
      "21/22 [===========================>..] - ETA: 0s - loss: 0.6603 - accuracy: 0.5950\n",
      "Epoch 6: val_accuracy improved from 0.59396 to 0.59397, saving model to best_model.h5\n",
      "22/22 [==============================] - 1s 34ms/step - loss: 0.6602 - accuracy: 0.5955 - val_loss: 0.6621 - val_accuracy: 0.5940\n",
      "Epoch 7/15\n",
      "21/22 [===========================>..] - ETA: 0s - loss: 0.6598 - accuracy: 0.5963\n",
      "Epoch 7: val_accuracy did not improve from 0.59397\n",
      "22/22 [==============================] - 1s 32ms/step - loss: 0.6601 - accuracy: 0.5955 - val_loss: 0.6622 - val_accuracy: 0.5934\n",
      "Epoch 8/15\n",
      "21/22 [===========================>..] - ETA: 0s - loss: 0.6603 - accuracy: 0.5943\n",
      "Epoch 8: val_accuracy improved from 0.59397 to 0.59425, saving model to best_model.h5\n",
      "22/22 [==============================] - 1s 37ms/step - loss: 0.6600 - accuracy: 0.5957 - val_loss: 0.6618 - val_accuracy: 0.5943\n",
      "Epoch 9/15\n",
      "21/22 [===========================>..] - ETA: 0s - loss: 0.6601 - accuracy: 0.5954\n",
      "Epoch 9: val_accuracy did not improve from 0.59425\n",
      "22/22 [==============================] - 1s 32ms/step - loss: 0.6599 - accuracy: 0.5956 - val_loss: 0.6620 - val_accuracy: 0.5935\n",
      "Epoch 10/15\n",
      "21/22 [===========================>..] - ETA: 0s - loss: 0.6599 - accuracy: 0.5956\n",
      "Epoch 10: val_accuracy did not improve from 0.59425\n",
      "22/22 [==============================] - 1s 31ms/step - loss: 0.6599 - accuracy: 0.5955 - val_loss: 0.6619 - val_accuracy: 0.5938\n",
      "Epoch 11/15\n",
      "21/22 [===========================>..] - ETA: 0s - loss: 0.6598 - accuracy: 0.5963\n",
      "Epoch 11: val_accuracy did not improve from 0.59425\n",
      "22/22 [==============================] - 1s 31ms/step - loss: 0.6600 - accuracy: 0.5956 - val_loss: 0.6619 - val_accuracy: 0.5938\n",
      "Epoch 12/15\n",
      "21/22 [===========================>..] - ETA: 0s - loss: 0.6597 - accuracy: 0.5958\n",
      "Epoch 12: val_accuracy did not improve from 0.59425\n",
      "22/22 [==============================] - 1s 31ms/step - loss: 0.6598 - accuracy: 0.5958 - val_loss: 0.6620 - val_accuracy: 0.5938\n",
      "Epoch 13/15\n",
      "21/22 [===========================>..] - ETA: 0s - loss: 0.6599 - accuracy: 0.5954\n",
      "Epoch 13: val_accuracy did not improve from 0.59425\n",
      "22/22 [==============================] - 1s 31ms/step - loss: 0.6599 - accuracy: 0.5957 - val_loss: 0.6619 - val_accuracy: 0.5938\n",
      "Epoch 14/15\n",
      "21/22 [===========================>..] - ETA: 0s - loss: 0.6597 - accuracy: 0.5958\n",
      "Epoch 14: val_accuracy did not improve from 0.59425\n",
      "22/22 [==============================] - 1s 31ms/step - loss: 0.6597 - accuracy: 0.5958 - val_loss: 0.6621 - val_accuracy: 0.5937\n",
      "Epoch 15/15\n",
      "21/22 [===========================>..] - ETA: 0s - loss: 0.6600 - accuracy: 0.5956\n",
      "Epoch 15: val_accuracy did not improve from 0.59425\n",
      "22/22 [==============================] - 1s 31ms/step - loss: 0.6600 - accuracy: 0.5956 - val_loss: 0.6619 - val_accuracy: 0.5942\n"
     ]
    }
   ],
   "source": [
    "model_save_path = 'best_model.h5'\n",
    "checkpoint_callback = ModelCheckpoint(model_save_path, \n",
    "                                      monitor='val_accuracy',\n",
    "                                      save_best_only=True,\n",
    "                                      verbose=1)\n",
    "\n",
    "history = model.fit(x_train, \n",
    "                              y_train, \n",
    "                              epochs=15,\n",
    "                              batch_size=512,\n",
    "                              validation_split=0.2,\n",
    "                              callbacks=[checkpoint_callback])"
   ]
  },
  {
   "cell_type": "code",
   "execution_count": 13,
   "id": "5f4eb4c6-fe30-4a1d-bee2-0fa81ab63a7e",
   "metadata": {},
   "outputs": [],
   "source": [
    "tests = test['Text']\n",
    "x_test = tokenizer.texts_to_sequences(tests)\n",
    "x_test = pad_sequences(x_test, maxlen=max_text_len)"
   ]
  },
  {
   "cell_type": "code",
   "execution_count": 14,
   "id": "73fb820e-c745-4bba-89ef-6cdd745bf85f",
   "metadata": {},
   "outputs": [
    {
     "name": "stdout",
     "output_type": "stream",
     "text": [
      "188/188 [==============================] - 5s 23ms/step\n"
     ]
    }
   ],
   "source": [
    "y_test = model.predict(x_test)"
   ]
  },
  {
   "cell_type": "code",
   "execution_count": 15,
   "id": "90a6ff20-80af-48c8-98db-d80202049b5f",
   "metadata": {},
   "outputs": [],
   "source": [
    "ans = np.rint(y_test)\n",
    "ans = ans.astype(int)\n",
    "ans = pd.DataFrame(ans)[0]\n",
    "ans = ans.astype('category')\n",
    "ans = ans.cat.rename_categories(['Negative', 'Positive'])"
   ]
  },
  {
   "cell_type": "code",
   "execution_count": 16,
   "id": "f7380e9c-f421-40dc-b57f-761fa28aa015",
   "metadata": {},
   "outputs": [],
   "source": [
    "df = pd.concat([test['idx'], ans], axis=1)"
   ]
  },
  {
   "cell_type": "code",
   "execution_count": 17,
   "id": "abf52f48-829e-482d-81d3-d8943d076d4c",
   "metadata": {},
   "outputs": [],
   "source": [
    "df = df.rename(columns={0:'Score'})"
   ]
  },
  {
   "cell_type": "code",
   "execution_count": 18,
   "id": "edb2ca27-0da7-462b-a422-47331ba85979",
   "metadata": {},
   "outputs": [
    {
     "data": {
      "text/html": [
       "<div>\n",
       "<style scoped>\n",
       "    .dataframe tbody tr th:only-of-type {\n",
       "        vertical-align: middle;\n",
       "    }\n",
       "\n",
       "    .dataframe tbody tr th {\n",
       "        vertical-align: top;\n",
       "    }\n",
       "\n",
       "    .dataframe thead th {\n",
       "        text-align: right;\n",
       "    }\n",
       "</style>\n",
       "<table border=\"1\" class=\"dataframe\">\n",
       "  <thead>\n",
       "    <tr style=\"text-align: right;\">\n",
       "      <th></th>\n",
       "      <th>idx</th>\n",
       "      <th>Score</th>\n",
       "    </tr>\n",
       "  </thead>\n",
       "  <tbody>\n",
       "    <tr>\n",
       "      <th>0</th>\n",
       "      <td>13999</td>\n",
       "      <td>Negative</td>\n",
       "    </tr>\n",
       "    <tr>\n",
       "      <th>1</th>\n",
       "      <td>14000</td>\n",
       "      <td>Negative</td>\n",
       "    </tr>\n",
       "    <tr>\n",
       "      <th>2</th>\n",
       "      <td>14001</td>\n",
       "      <td>Negative</td>\n",
       "    </tr>\n",
       "    <tr>\n",
       "      <th>3</th>\n",
       "      <td>14002</td>\n",
       "      <td>Negative</td>\n",
       "    </tr>\n",
       "    <tr>\n",
       "      <th>4</th>\n",
       "      <td>14003</td>\n",
       "      <td>Negative</td>\n",
       "    </tr>\n",
       "    <tr>\n",
       "      <th>...</th>\n",
       "      <td>...</td>\n",
       "      <td>...</td>\n",
       "    </tr>\n",
       "    <tr>\n",
       "      <th>5995</th>\n",
       "      <td>19994</td>\n",
       "      <td>Positive</td>\n",
       "    </tr>\n",
       "    <tr>\n",
       "      <th>5996</th>\n",
       "      <td>19995</td>\n",
       "      <td>Positive</td>\n",
       "    </tr>\n",
       "    <tr>\n",
       "      <th>5997</th>\n",
       "      <td>19996</td>\n",
       "      <td>Negative</td>\n",
       "    </tr>\n",
       "    <tr>\n",
       "      <th>5998</th>\n",
       "      <td>19997</td>\n",
       "      <td>Positive</td>\n",
       "    </tr>\n",
       "    <tr>\n",
       "      <th>5999</th>\n",
       "      <td>19998</td>\n",
       "      <td>Negative</td>\n",
       "    </tr>\n",
       "  </tbody>\n",
       "</table>\n",
       "<p>6000 rows × 2 columns</p>\n",
       "</div>"
      ],
      "text/plain": [
       "        idx     Score\n",
       "0     13999  Negative\n",
       "1     14000  Negative\n",
       "2     14001  Negative\n",
       "3     14002  Negative\n",
       "4     14003  Negative\n",
       "...     ...       ...\n",
       "5995  19994  Positive\n",
       "5996  19995  Positive\n",
       "5997  19996  Negative\n",
       "5998  19997  Positive\n",
       "5999  19998  Negative\n",
       "\n",
       "[6000 rows x 2 columns]"
      ]
     },
     "execution_count": 18,
     "metadata": {},
     "output_type": "execute_result"
    }
   ],
   "source": [
    "df"
   ]
  },
  {
   "cell_type": "code",
   "execution_count": 19,
   "id": "e9e4c373-b2b7-4b9c-906e-8820a5348fa5",
   "metadata": {},
   "outputs": [],
   "source": [
    "df.to_csv('ans.csv', sep = '\\t')"
   ]
  },
  {
   "cell_type": "code",
   "execution_count": null,
   "id": "582ab62c-0cd8-4e60-b731-9b6e02ae15cc",
   "metadata": {},
   "outputs": [],
   "source": []
  }
 ],
 "metadata": {
  "kernelspec": {
   "display_name": "Python 3 (ipykernel)",
   "language": "python",
   "name": "python3"
  },
  "language_info": {
   "codemirror_mode": {
    "name": "ipython",
    "version": 3
   },
   "file_extension": ".py",
   "mimetype": "text/x-python",
   "name": "python",
   "nbconvert_exporter": "python",
   "pygments_lexer": "ipython3",
   "version": "3.8.10"
  }
 },
 "nbformat": 4,
 "nbformat_minor": 5
}
