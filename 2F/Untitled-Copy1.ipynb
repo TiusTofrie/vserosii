{
 "cells": [
  {
   "cell_type": "code",
   "execution_count": 4,
   "id": "1e935733-6644-426d-bcad-f2cf05a9dfa2",
   "metadata": {},
   "outputs": [],
   "source": [
    "import pandas as pd\n",
    "import numpy as np\n",
    "gpus = tfconfig.list_physical_devices('GPU')\n",
    "\n",
    "if gpus:\n",
    "    try:\n",
    "        for gpu in gpus:\n",
    "            tfconfig.set_logical_device_configuration(gpu, [tfconfig.LogicalDeviceConfiguration(memory_limit=4096)])\n",
    "    except RuntimeError as e:\n",
    "        \n",
    "        print(e)"
   ]
  },
  {
   "cell_type": "code",
   "execution_count": 5,
   "id": "d2a60235-bf61-496e-9984-5176e27fd995",
   "metadata": {},
   "outputs": [],
   "source": [
    "num_words = 10000\n",
    "max_text_len = 300"
   ]
  },
  {
   "cell_type": "code",
   "execution_count": 6,
   "id": "172ee4fa-99ba-46ec-ab53-0ea54cf63b73",
   "metadata": {},
   "outputs": [],
   "source": [
    "train = pd.read_csv('train.csv', sep='\\t')\n",
    "test = pd.read_csv('test.csv', sep='\\t')"
   ]
  },
  {
   "cell_type": "code",
   "execution_count": 7,
   "id": "110f33f4-875a-4fac-877e-7bb04ab72318",
   "metadata": {},
   "outputs": [],
   "source": [
    "texts = train['Text']\n",
    "y_train = (train['Score'].astype('category')).cat.codes"
   ]
  },
  {
   "cell_type": "code",
   "execution_count": null,
   "id": "fe7359d5-2551-4cf0-ab88-7a87e65e1b90",
   "metadata": {},
   "outputs": [],
   "source": []
  },
  {
   "cell_type": "code",
   "execution_count": 13,
   "id": "5f4eb4c6-fe30-4a1d-bee2-0fa81ab63a7e",
   "metadata": {},
   "outputs": [],
   "source": [
    "tests = test['Text']"
   ]
  },
  {
   "cell_type": "code",
   "execution_count": 14,
   "id": "73fb820e-c745-4bba-89ef-6cdd745bf85f",
   "metadata": {},
   "outputs": [
    {
     "name": "stdout",
     "output_type": "stream",
     "text": [
      "188/188 [==============================] - 5s 23ms/step\n"
     ]
    }
   ],
   "source": []
  },
  {
   "cell_type": "code",
   "execution_count": 15,
   "id": "90a6ff20-80af-48c8-98db-d80202049b5f",
   "metadata": {},
   "outputs": [],
   "source": [
    "ans = np.rint(y_test)\n",
    "ans = ans.astype(int)\n",
    "ans = pd.DataFrame(ans)[0]\n",
    "ans = ans.astype('category')\n",
    "ans = ans.cat.rename_categories(['Negative', 'Positive'])"
   ]
  },
  {
   "cell_type": "code",
   "execution_count": 16,
   "id": "f7380e9c-f421-40dc-b57f-761fa28aa015",
   "metadata": {},
   "outputs": [],
   "source": [
    "df = pd.concat([test['idx'], ans], axis=1)"
   ]
  },
  {
   "cell_type": "code",
   "execution_count": 17,
   "id": "abf52f48-829e-482d-81d3-d8943d076d4c",
   "metadata": {},
   "outputs": [],
   "source": [
    "df = df.rename(columns={0:'Score'})"
   ]
  },
  {
   "cell_type": "code",
   "execution_count": 18,
   "id": "edb2ca27-0da7-462b-a422-47331ba85979",
   "metadata": {},
   "outputs": [
    {
     "data": {
      "text/html": [
       "<div>\n",
       "<style scoped>\n",
       "    .dataframe tbody tr th:only-of-type {\n",
       "        vertical-align: middle;\n",
       "    }\n",
       "\n",
       "    .dataframe tbody tr th {\n",
       "        vertical-align: top;\n",
       "    }\n",
       "\n",
       "    .dataframe thead th {\n",
       "        text-align: right;\n",
       "    }\n",
       "</style>\n",
       "<table border=\"1\" class=\"dataframe\">\n",
       "  <thead>\n",
       "    <tr style=\"text-align: right;\">\n",
       "      <th></th>\n",
       "      <th>idx</th>\n",
       "      <th>Score</th>\n",
       "    </tr>\n",
       "  </thead>\n",
       "  <tbody>\n",
       "    <tr>\n",
       "      <th>0</th>\n",
       "      <td>13999</td>\n",
       "      <td>Negative</td>\n",
       "    </tr>\n",
       "    <tr>\n",
       "      <th>1</th>\n",
       "      <td>14000</td>\n",
       "      <td>Negative</td>\n",
       "    </tr>\n",
       "    <tr>\n",
       "      <th>2</th>\n",
       "      <td>14001</td>\n",
       "      <td>Negative</td>\n",
       "    </tr>\n",
       "    <tr>\n",
       "      <th>3</th>\n",
       "      <td>14002</td>\n",
       "      <td>Negative</td>\n",
       "    </tr>\n",
       "    <tr>\n",
       "      <th>4</th>\n",
       "      <td>14003</td>\n",
       "      <td>Negative</td>\n",
       "    </tr>\n",
       "    <tr>\n",
       "      <th>...</th>\n",
       "      <td>...</td>\n",
       "      <td>...</td>\n",
       "    </tr>\n",
       "    <tr>\n",
       "      <th>5995</th>\n",
       "      <td>19994</td>\n",
       "      <td>Positive</td>\n",
       "    </tr>\n",
       "    <tr>\n",
       "      <th>5996</th>\n",
       "      <td>19995</td>\n",
       "      <td>Positive</td>\n",
       "    </tr>\n",
       "    <tr>\n",
       "      <th>5997</th>\n",
       "      <td>19996</td>\n",
       "      <td>Negative</td>\n",
       "    </tr>\n",
       "    <tr>\n",
       "      <th>5998</th>\n",
       "      <td>19997</td>\n",
       "      <td>Positive</td>\n",
       "    </tr>\n",
       "    <tr>\n",
       "      <th>5999</th>\n",
       "      <td>19998</td>\n",
       "      <td>Negative</td>\n",
       "    </tr>\n",
       "  </tbody>\n",
       "</table>\n",
       "<p>6000 rows × 2 columns</p>\n",
       "</div>"
      ],
      "text/plain": [
       "        idx     Score\n",
       "0     13999  Negative\n",
       "1     14000  Negative\n",
       "2     14001  Negative\n",
       "3     14002  Negative\n",
       "4     14003  Negative\n",
       "...     ...       ...\n",
       "5995  19994  Positive\n",
       "5996  19995  Positive\n",
       "5997  19996  Negative\n",
       "5998  19997  Positive\n",
       "5999  19998  Negative\n",
       "\n",
       "[6000 rows x 2 columns]"
      ]
     },
     "execution_count": 18,
     "metadata": {},
     "output_type": "execute_result"
    }
   ],
   "source": [
    "df"
   ]
  },
  {
   "cell_type": "code",
   "execution_count": 19,
   "id": "e9e4c373-b2b7-4b9c-906e-8820a5348fa5",
   "metadata": {},
   "outputs": [],
   "source": [
    "df.to_csv('ans.csv', sep = '\\t')"
   ]
  },
  {
   "cell_type": "code",
   "execution_count": null,
   "id": "582ab62c-0cd8-4e60-b731-9b6e02ae15cc",
   "metadata": {},
   "outputs": [],
   "source": []
  }
 ],
 "metadata": {
  "kernelspec": {
   "display_name": "Python 3 (ipykernel)",
   "language": "python",
   "name": "python3"
  },
  "language_info": {
   "codemirror_mode": {
    "name": "ipython",
    "version": 3
   },
   "file_extension": ".py",
   "mimetype": "text/x-python",
   "name": "python",
   "nbconvert_exporter": "python",
   "pygments_lexer": "ipython3",
   "version": "3.8.10"
  }
 },
 "nbformat": 4,
 "nbformat_minor": 5
}
